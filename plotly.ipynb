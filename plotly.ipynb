{
 "cells": [
  {
   "cell_type": "code",
   "execution_count": 1,
   "id": "b5710157-8630-4124-b9b5-4076feb64901",
   "metadata": {},
   "outputs": [
    {
     "name": "stdout",
     "output_type": "stream",
     "text": [
      "Collecting package metadata (current_repodata.json): done\n",
      "Solving environment: done\n",
      "\n",
      "# All requested packages already installed.\n",
      "\n"
     ]
    }
   ],
   "source": [
    "# https://jakevdp.github.io/blog/2017/12/05/installing-python-packages-from-jupyter/\n",
    "import sys\n",
    "!conda install --yes --prefix {sys.prefix} plotly\n",
    "# !{sys.executable} -m pip install plotly jupyterlab\n",
    "\n",
    "# https://stackoverflow.com/questions/52771328/plotly-chart-not-showing-in-jupyter-notebook\n",
    "import plotly.io as pio\n",
    "pio.renderers.default = 'iframe'\n",
    "\n",
    "import plotly.express as px"
   ]
  },
  {
   "cell_type": "code",
   "execution_count": 22,
   "id": "1dc79a3a-8eb1-48e2-a1ad-1e6b8c2e6fea",
   "metadata": {},
   "outputs": [
    {
     "data": {
      "text/html": [
       "<iframe\n",
       "    scrolling=\"no\"\n",
       "    width=\"100%\"\n",
       "    height=\"545px\"\n",
       "    src=\"iframe_figures/figure_22.html\"\n",
       "    frameborder=\"0\"\n",
       "    allowfullscreen\n",
       "></iframe>\n"
      ]
     },
     "metadata": {},
     "output_type": "display_data"
    }
   ],
   "source": [
    "import plotly.graph_objects as go\n",
    "import numpy as np\n",
    "\n",
    "# Create figure\n",
    "fig = go.Figure()\n",
    "\n",
    "# Add traces, one for each slider step\n",
    "names = [['Eleven'], ['Mike'], ['Dustin']]\n",
    "marks = [[0], [1], [2]]\n",
    "\n",
    "for i in range(0, len(names)):\n",
    "    table = go.Table(\n",
    "        header=dict(values=['Name', 'Marks'],\n",
    "                   line_color='darkslategray',\n",
    "                   align='left'),\n",
    "        cells=dict(values=[names[i], marks[i]],\n",
    "                  line_color='darkslategray',\n",
    "                  align='left'))\n",
    "    \n",
    "    fig.add_traces(data=table) # bro, fucking add_traces\n",
    "    fig.data[i].visible = False\n",
    "\n",
    "# fig.show()\n",
    "\n",
    "default_active = 1\n",
    "fig.data[default_active].visible = True\n",
    "\n",
    "steps = []\n",
    "for i in range(len(fig.data)):\n",
    "    step = dict(\n",
    "        method=\"update\",\n",
    "        args=[{\"visible\": [False] * len(fig.data)},\n",
    "              {\"title\": \"Slider switched to step: \" + str(i)}],  # layout attribute\n",
    "    )\n",
    "    step[\"args\"][0][\"visible\"][i] = True  # Toggle i'th trace to \"visible\"\n",
    "    steps.append(step)\n",
    "\n",
    "sliders = [dict(\n",
    "    active=1,\n",
    "    currentvalue={\"prefix\": \"Frequency: \"},\n",
    "    pad={\"t\": 50},\n",
    "    steps=steps\n",
    ")]\n",
    "\n",
    "fig.update_layout(\n",
    "    sliders=sliders\n",
    ")\n",
    "\n",
    "fig.show()\n",
    "\n",
    "fig.write_html(\"slider.html\")"
   ]
  },
  {
   "cell_type": "code",
   "execution_count": null,
   "id": "759c9024-d86a-4f63-b1b6-ccf20a40848c",
   "metadata": {},
   "outputs": [],
   "source": []
  }
 ],
 "metadata": {
  "kernelspec": {
   "display_name": "Python 3 (ipykernel)",
   "language": "python",
   "name": "python3"
  },
  "language_info": {
   "codemirror_mode": {
    "name": "ipython",
    "version": 3
   },
   "file_extension": ".py",
   "mimetype": "text/x-python",
   "name": "python",
   "nbconvert_exporter": "python",
   "pygments_lexer": "ipython3",
   "version": "3.10.8"
  }
 },
 "nbformat": 4,
 "nbformat_minor": 5
}
