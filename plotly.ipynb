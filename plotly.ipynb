{
 "cells": [
  {
   "cell_type": "code",
   "execution_count": 1,
   "id": "b5710157-8630-4124-b9b5-4076feb64901",
   "metadata": {},
   "outputs": [],
   "source": [
    "# https://jakevdp.github.io/blog/2017/12/05/installing-python-packages-from-jupyter/\n",
    "import sys\n",
    "#!conda install --yes --prefix {sys.prefix} plotly\n",
    "# !{sys.executable} -m pip install plotly jupyterlab\n",
    "\n",
    "# https://stackoverflow.com/questions/52771328/plotly-chart-not-showing-in-jupyter-notebook\n",
    "import plotly.io as pio\n",
    "pio.renderers.default = 'iframe'\n",
    "\n",
    "import plotly.express as px\n",
    "import plotly.graph_objects as go"
   ]
  },
  {
   "cell_type": "code",
   "execution_count": 2,
   "id": "759c9024-d86a-4f63-b1b6-ccf20a40848c",
   "metadata": {},
   "outputs": [
    {
     "data": {
      "text/html": [
       "<iframe\n",
       "    scrolling=\"no\"\n",
       "    width=\"100%\"\n",
       "    height=\"545px\"\n",
       "    src=\"iframe_figures/figure_2.html\"\n",
       "    frameborder=\"0\"\n",
       "    allowfullscreen\n",
       "></iframe>\n"
      ]
     },
     "metadata": {},
     "output_type": "display_data"
    }
   ],
   "source": [
    "# detoured_paths\n",
    "\n",
    "fig = go.Figure()\n",
    "\n",
    "# Add traces, one for each slider step\n",
    "titles = ['Path taken by the player', 'Shortest edges', 'edge direction distribution', 'start', 'destination']\n",
    "values = [\n",
    "    [\"‘Cobalt’, “People’s_Republic_of_China”, ‘Confucianism’, ‘Qin_Dynasty’, ‘Great_Wall_of_China’, ‘Mongolia’, ‘Qing_Dynasty’, ‘Tea’, ‘Arabic_language’, “Qur’an”, ‘Islam’, ‘East_Africa’, ‘Geography’, ‘Mathematics’, ‘Mesopotamia’, ‘Alexander_the_Great’, ‘Persian_Empire’, ‘Iran’, ‘Middle_East’, ‘Fertile_Crescent’, ‘Civilization’, ‘Culture’, ‘Europe’, ‘Earth’, ‘Asia’]\", \"‘Bulgaria’, ‘Europe’, ‘United_Kingdom’, ‘Henry_VIII_of_England’, ‘Henry_VII_of_England’, ‘Richard_III_of_England’, ‘Edward_V_of_England’, ‘Edward_IV_of_England’, ‘Henry_VI_of_England’, ‘Henry_V_of_England’, ‘Henry_IV_of_England’, ‘Richard_II_of_England’, ‘Edward_III_of_England’, ‘Edward_II_of_England’, ‘Edward_I_of_England’, ‘Henry_III_of_England’, ‘John_of_England’, ‘Richard_I_of_England’, ‘Henry_II_of_England’, ‘Stephen_of_England’, ‘Henry_I_of_England’\", \"‘Speed_of_light’, ‘Rubidium’, ‘Caesium’, ‘Barium’, ‘Lanthanum’, ‘Cerium’, ‘Praseodymium’, ‘Neodymium’, ‘Promethium’, ‘Samarium’, ‘Europium’, ‘Gadolinium’, ‘Terbium’, ‘Dysprosium’, ‘Holmium’, ‘Erbium’, ‘Thulium’, ‘Ytterbium’, ‘Lutetium’, ‘Hafnium’, ‘Tantalum’, ‘Tungsten’, ‘Rhenium’, ‘Osmium’, ‘Ruthenium’, ‘Rhodium’, ‘Palladium’, ‘Silver’, ‘Cadmium’, ‘Indium’\"],\n",
    "    [\"(‘Fertile_Crescent’, ‘Civilization’), (‘Earth’, ‘Asia’)\", \"(‘Richard_I_of_England’, ‘Henry_II_of_England’), (‘Stephen_of_England’, ‘Henry_I_of_England’)\", \"(‘Speed_of_light’, ‘Rubidium’), (‘Silver’, ‘Cadmium’), (‘Cadmium’, ‘Indium’)\"],\n",
    "    [\"[ 0. 2. 22. 0. 0. 0.]\", \"[ 0. 2. 18. 0. 0. 0.]\", \"[ 0. 3. 26. 0. 0. 0.]\"],\n",
    "    [\"Cobalt\", \"Bulgaria\", \"Speed of light\"],\n",
    "    [\"Asia\", \"Henry I of England\", \"Indium\"],\n",
    "]\n",
    "\n",
    "table = go.Table(\n",
    "    header=dict(values=titles,\n",
    "               line_color='darkslategray',\n",
    "               align='left'),\n",
    "    cells=dict(values=values,\n",
    "              line_color='darkslategray',\n",
    "              align='left')\n",
    ")\n",
    "\n",
    "fig.add_traces(data=table) # bro, fucking add_traces\n",
    "    \n",
    "fig.show()\n",
    "\n",
    "fig.write_html(\"./docs/_includes/detoured_paths.html\")"
   ]
  },
  {
   "cell_type": "code",
   "execution_count": 3,
   "id": "9014bec5-aeb4-477d-8e17-e9c460abe280",
   "metadata": {},
   "outputs": [
    {
     "data": {
      "text/html": [
       "<iframe\n",
       "    scrolling=\"no\"\n",
       "    width=\"100%\"\n",
       "    height=\"545px\"\n",
       "    src=\"iframe_figures/figure_3.html\"\n",
       "    frameborder=\"0\"\n",
       "    allowfullscreen\n",
       "></iframe>\n"
      ]
     },
     "metadata": {},
     "output_type": "display_data"
    }
   ],
   "source": [
    "# Sightseeing paths\n",
    "\n",
    "fig = go.Figure()\n",
    "\n",
    "# Add traces, one for each slider step\n",
    "titles = ['Path taken by the player', 'Shortest path', 'Other player\\'s shortest path']\n",
    "values = [\n",
    "    [\"‘North_America’, ‘Pacific_Ocean’, ‘Earth’, “Earth’s_atmosphere”, ‘Ultraviolet’, ‘Eye’, ‘Arthropod’, ‘Animal’, ‘Fungus’, ‘Photosynthesis’, ‘Oxygen’, ‘Ozone’, ‘Platinum’, ‘18th_century’, ‘Time’, ‘Albert_Einstein’, ‘Thermodynamics’, ‘Chemistry’, ‘Oxygen’, ‘Antoine_Lavoisier’, ‘French_Revolution’, ‘Europe’, ‘Zeus’, ‘Religion’, ‘Philosophy’, ‘Euclid’, ‘19th_century’, ‘Japan’, ‘Tokyo’, ‘Osaka’, ‘China’, ‘English_language’, ‘5th_century’, ‘Augustine_of_Hippo’, ‘North_Africa’, ‘Algeria’, ‘Ottoman_Empire’, ‘World_War_I’, ‘Woodrow_Wilson’, ‘William_Howard_Taft’, ‘Theodore_Roosevelt’, ‘William_McKinley’, ‘Grover_Cleveland’, ‘Theodore_Roosevelt’, ‘New_York_City’, ‘Global_city’, ‘United_Nations’, ‘Republic_of_China’, ‘Taiwan’, “People’s_Republic_of_China”, ‘Mao_Zedong’, ‘Ming_Dynasty’, ‘Chinese_language’, ‘Race’, ‘Evolution’, ‘Organism’, ‘Life’, ‘Cell_(biology)’, ‘Protein’, ‘Genetic_code’, ‘Mitochondrion’, ‘Adenosine_triphosphate’, ‘Photosynthesis’, ‘Hydrogen’, ‘Schrödinger_equation’, ‘Paul_Dirac’, ‘University_of_Cambridge’, ‘England’, ‘Germany’, ‘Jew’, ‘United_States’, ‘Canada’\", \"‘United_States’, ‘Washington,D.C.’, ‘Government’, ‘Corporation’, ‘Employment’, ‘Marxism’, ‘Politics’, ‘Political_philosophy’, ‘Augustine_of_Hippo’, ‘Philosophy’, ‘Mathematics’, ‘Science’, ‘Society’, ‘Culture’, ‘Language’, ‘Sound’, ‘Gas’, ‘Phase(matter)’, ‘Thermodynamics’, ‘Heat’, ‘Energy’, ‘Force’, ‘Archimedes’, ‘Isaac_Newton’, ‘Momentum’, ‘René_Descartes’, ‘Mathematical_analysis’, ‘19th_century’, ‘British_Empire’, ‘Society’, ‘Switzerland’, ‘Latin’, ‘Vulgar_Latin’, ‘9th_century’, ‘Time’, ‘Number’, ‘Measurement’, ‘Milky_Way’, ‘Sphere’, ‘Physics’, ‘Universe’, ‘Big_Bang’, ‘Cosmic_microwave_background_radiation’, ‘Electromagnetic_radiation’, ‘Electric_field’, ‘Electric_charge’, ‘Michael_Faraday’, ‘England’, ‘Great_Britain’, ‘United_Kingdom’, ‘France’, ‘Franks’, ‘Germany’, ‘Luxembourg’, ‘Constitutional_monarchy’, ‘Japan’, ‘Buddhism’, ‘Buddha’, ‘Gautama_Buddha’, ‘Nepal’, ‘India’, ‘Indonesia’, ‘Netherlands’, ‘International_Court_of_Justice’, ‘United_States’, ‘Holy_Roman_Empire’, ‘Pope’, ‘Vatican_City’, ‘Election’, ‘Citizenship’, ‘Country’, ‘Antarctica’, ‘Desert’, ‘Sand’, ‘Granite’, ‘Crystal’, ‘Glass’, ‘Biology’, ‘Biodiversity’, ‘Extinction’, ‘Punctuated_equilibrium’, ‘Paleontology’, ‘Fossil’, ‘Cambrian’, ‘Stephen_Jay_Gould’, ‘Oppression’, ‘Psychology’, ‘Anthropology’, ‘Human’, ‘Communication’, ‘Information’, ‘Computer_science’, ‘Programming_language’, ‘Computer’, ‘Toy’, ‘Mammal’, ‘Human’, ‘Technology’, ‘Science’, ‘Middle_Ages’, ‘Industrial_Revolution’, ‘Henry_Ford’, ‘Woodrow_Wilson’, ‘William_Howard_Taft’, ‘Theodore_Roosevelt’, ‘William_McKinley’, ‘Grover_Cleveland’, ‘Chester_A.Arthur’, ‘James_Garfield’, ‘Rutherford_B._Hayes’, ‘Ulysses_S._Grant’, ‘Andrew_Johnson’, ‘Abraham_Lincoln’, ‘James_Buchanan’, ‘James_K._Polk’, ‘John_Tyler’, ‘William_Henry_Harrison’, ‘Martin_Van_Buren’, ‘Andrew_Jackson’, ‘President_of_the_United_States’, ‘George_Washington’, ‘John_Adams’, ‘Thomas_Jefferson’, ‘United_States_Declaration_of_Independence’, ‘Benjamin_Franklin’, ‘Electricity’, ‘Heat’, ‘Atom’, ‘Quantum_mechanics’, ‘Computational_chemistry’, ‘Computer_science’, ‘Information’, ‘Communication’, ‘Linguistics’, ‘Speech_synthesis’, ‘Vienna’, ‘World_War_II’, ‘Poland’, ‘Communism’, ‘Capitalism’, ‘16th_century’, ‘Brazil’, ‘Portuguese_language’, ‘East_Timor’, ‘Indonesian_language’, ‘Chinese_language’, ‘Singapore’, ‘Hong_Kong’, ‘Finance’, ‘Business’, ‘Cooperative’, ‘European_Union’, ‘Euro’, ‘Coin’, ‘Money’, ‘Economics’, ‘Crime’, ‘Law’, ‘Human_rights’, ‘Political_science’, ‘Game_theory’, ‘Sociology’, ‘Globalization’, ‘Multiculturalism’, ‘Cultural_identity’, ‘History’, ‘Humanities’, ‘Literature’, ‘Fiction’, ‘Novel’, ‘Virgil’, ‘Rome’, ‘Italy’, ‘Invasion’, ‘Nazi_Germany’, ‘Treaty_of_Versailles’, ‘League_of_Nations’, ‘Adolf_Hitler’, ‘Fascism’, ‘Nationalism’, ‘History_of_the_world’, ‘Africa’, ‘Temperate’, ‘Arctic_Circle’, ‘Russia’, ‘Soviet_Union’, ‘Russian_language’, ‘Ukraine’, ‘Russian_Revolution_of_1917’, ‘Vladimir_Lenin’, ‘Moscow’, ‘Principality’, ‘Liechtenstein’, ‘Gibraltar’, ‘Spain’, Atlantic_Ocean’, ‘Greenland’, ‘Faroe_Islands’, ‘Norway’, ‘Sweden’, ‘Finland’, ‘Åland’, ‘Nationality’, ‘Ethnic_group’, ‘Genealogy’, ‘Family’, ‘Roman_Empire’, ‘Eastern_Orthodox_Church’, ‘Australia’, ‘Papua_New_Guinea’, ‘Oceania’, ‘Sea’, ‘Ocean’, ‘Arctic_Ocean’, ‘Walrus’, ‘Arctic’, ‘Denmark’, ‘North_Sea’, ‘English_Channel’, ‘Ice_age’, ‘Climate’, ‘Weather’, ‘Planet’, ‘Solar_System’, ‘Asteroid’, ‘Jupiter’, ‘Neptune’, ‘Helium’, ‘Absolute_zero’, ‘Galileo_Galilei’, ‘Stephen_Hawking’, ‘Astronomy’, ‘Star’, ‘Sun’, ‘Astrology’, ‘Tycho_Brahe’, ‘Skåneland’, ‘Nationalism’, ‘Human’, ‘Aesthetics’, ‘David_Hume’, ‘John_Locke’, ‘Thomas_Hobbes’, ‘Geometry’, ‘Euclidean_geometry’, ‘Logic’, ‘Aristotle’, ‘Ethics’, ‘Immanuel_Kant’, ‘Age_of_Enlightenment’, ‘Political_economy’, ‘Thomas_Malthus’, ‘Famine’, ‘Joseph_Stalin’, ‘Leon_Trotsky’, ‘Judaism’, “Bahá’í_Faith”, ‘Persian_Empire’, ‘Cyrus_the_Great’, ‘Iranian_peoples’, ‘Alexander_the_Great’, ‘Hebrew_language’, ‘Israel’, ‘Liberal_democracy’, ‘Liberalism’, ‘Education’, ‘Philosophy_of_mind’, ‘Brahman’, ‘Hinduism’, ‘Mahabharata’, ‘Sanskrit’, ‘Hindi’, ‘Mauritius’, ‘French_language’, ‘Belgium’, ‘Dutch_language’, ‘German_language’, ‘Kazakhstan’, ‘Stone_Age’, ‘Copper’, ‘Chemical_element’, ‘Electron’, ‘William_Gilbert’, ‘Amber’, ‘Spanish_language’, ‘South_America’, ‘Southern_United_States’, ‘American_Civil_War’, ‘William_Tecumseh_Sherman’, ‘Florida’, ‘Gulf_of_Mexico’, ‘Cuba’, ‘Christopher_Columbus’, ‘DNA’, ‘Genetics’, ‘Plant’, ‘Moss’, ‘Seed’, ‘Myco-heterotrophy’, ‘Plant’, ‘Fern’, ‘Alternation_of_generations’, ‘Plant’, ‘Flower’, ‘Fruit’, ‘Vegetable’, ‘Pea’, ‘Cultivar’, ‘Plant’, ‘Tree’, ‘Mythology’, ‘Greek_mythology’, ‘Homer’, ‘Odyssey’, ‘Odysseus’, ‘Roman_mythology’, ‘Ancient_Rome’, ‘Oligarchy’, ‘Magna_Carta’, ‘United_States_Constitution’, ‘San_Marino’, ‘Nauru’, ‘Kiribati’, ‘Christmas_Island’, ‘Indian_Ocean’, ‘Southern_Ocean’, ‘Argentina’, ‘Andes’, ‘Himalayas’, ‘Afghanistan’, ‘Tajikistan’, ‘Mosque’, ‘7th_century’, “Qur’an”, ‘Muhammad’, ‘Islam’, ‘Middle_East’, ‘Persian_Gulf’, ‘Petroleum’, ‘Crust(geology)’, ‘Geology’, ‘Iron’, ‘Nickel’, ‘Metal’, ‘Corrosion’, ‘Water’, ‘Seawater’, ‘Red_Sea’, ‘Suez_Canal’, ‘Mediterranean_Sea’, ‘Mesopotamia’, ‘Turkey’, ‘Georgia_(country)’, ‘Armenia’, ‘Iran’, ‘United_Arab_Emirates’, ‘Abu_Dhabi’, ‘Emirate’, ‘Saudi_Arabia’, ‘Yemen’, ‘Oman’, ‘Muscat,_Oman’, ‘Renaissance’, ‘14th_century’, “Hundred_Years’_War”, ‘Western_Roman_Empire’, ‘Romulus_Augustus’, ‘Byzantine_Empire’, ‘Constantine_I’, ‘Serbia’, ‘Hungary’, ‘Slovenia’, ‘6th_century’, ‘Scotland’, ‘City_status_in_the_United_Kingdom’, ‘Birmingham’, ‘Market’, ‘Socialism’, ‘Karl_Marx’, ‘London’, ‘Fashion’, ‘Architecture’, ‘Light’, ‘Wave’, ‘Speed_of_light’, “Maxwell’s_equations”, “Coulomb’s_law”, ‘Albert_Einstein’, ‘Wolfgang_Amadeus_Mozart’, ‘Munich’, ‘8th_century’, ‘Picts’, ‘Ptolemy’, ‘Arabic_language’, ‘Palestinian_territories’, ‘West_Bank’, ‘International_law’, ‘World_Trade_Organization’, ‘Organization’, ‘Max_Weber’, ‘United_States’, ‘Yellowstone_National_Park’, ‘North_America’, ‘Canada’, ‘English_language’\"],\n",
    "    [\"‘North_America’, ‘Canada’\", \"‘United_States’, ‘Irish_people’, ‘English_language’\"],\n",
    "    [\"‘North_America’, ‘Canada’\", \"‘United_States’, ‘American_English’, ‘English_language’\"],\n",
    "]\n",
    "\n",
    "table = go.Table(\n",
    "    header=dict(values=titles,\n",
    "               line_color='darkslategray',\n",
    "               align='left'),\n",
    "    cells=dict(values=values,\n",
    "              line_color='darkslategray',\n",
    "              align='left')\n",
    ")\n",
    "\n",
    "fig.add_traces(data=table) # bro, fucking add_traces\n",
    "    \n",
    "fig.show()\n",
    "\n",
    "fig.write_html(\"./docs/_includes/sightseeing_paths.html\")"
   ]
  },
  {
   "cell_type": "code",
   "execution_count": 4,
   "id": "12d3d141-01ec-483f-93c4-e6f4d3f72f83",
   "metadata": {},
   "outputs": [
    {
     "data": {
      "text/html": [
       "<iframe\n",
       "    scrolling=\"no\"\n",
       "    width=\"100%\"\n",
       "    height=\"545px\"\n",
       "    src=\"iframe_figures/figure_4.html\"\n",
       "    frameborder=\"0\"\n",
       "    allowfullscreen\n",
       "></iframe>\n"
      ]
     },
     "metadata": {},
     "output_type": "display_data"
    }
   ],
   "source": [
    "# sequential_retrieval_paths\n",
    "\n",
    "fig = go.Figure()\n",
    "\n",
    "# Add traces, one for each slider step\n",
    "titles = ['Path taken by the player', 'Shortest path', 'Other player\\'s shortest path']\n",
    "values = [\n",
    "    [\"‘Bulgaria’, ‘Europe’, ‘United_Kingdom’, ‘Henry_VIII_of_England’, ‘Henry_VII_of_England’, ‘Richard_III_of_England’, ‘Edward_V_of_England’, ‘Edward_IV_of_England’, ‘Henry_VI_of_England’, ‘Henry_V_of_England’, ‘Henry_IV_of_England’, ‘Richard_II_of_England’, ‘Edward_III_of_England’, ‘Edward_II_of_England’, ‘Edward_I_of_England’, ‘Henry_III_of_England’, ‘John_of_England’, ‘Richard_I_of_England’, ‘Henry_II_of_England’, ‘Stephen_of_England’, ‘Henry_I_of_England’\", \"‘Speed_of_light’, ‘Rubidium’, ‘Caesium’, ‘Barium’, ‘Lanthanum’, ‘Cerium’, ‘Praseodymium’, ‘Neodymium’, ‘Promethium’, ‘Samarium’, ‘Europium’, ‘Gadolinium’, ‘Terbium’, ‘Dysprosium’, ‘Holmium’, ‘Erbium’, ‘Thulium’, ‘Ytterbium’, ‘Lutetium’, ‘Hafnium’, ‘Tantalum’, ‘Tungsten’, ‘Rhenium’, ‘Osmium’, ‘Ruthenium’, ‘Rhodium’, ‘Palladium’, ‘Silver’, ‘Cadmium’, ‘Indium’\", \"‘Asteroid’, ‘Solar_System’, ‘Planet’, ‘Earth’, ‘Human’, ‘Culture’, ‘20th_century’, ‘19th_century’, ‘18th_century’, ‘17th_century’, ‘16th_century’, ‘15th_century’, ‘14th_century’, ‘13th_century’, ‘12th_century’, ‘11th_century’, ‘10th_century’, ‘9th_century’, ‘Viking’\"],\n",
    "    [\"‘Bulgaria’, ‘England’, ‘Henry_I_of_England’\", \"‘Speed_of_light’, ‘Glass’, ‘Cadmium’, ‘Indium’\", \"‘Asteroid’, ‘Comet’, ‘English_language’, ‘Viking’\"],\n",
    "    [\"‘Bulgaria’, ‘England’, ‘Henry_I_of_England’\", \"‘Speed_of_light’, ‘Caesium’, ‘Periodic_table’, ‘Indium’\", \"‘Asteroid’, ‘Comet’, ‘Denmark’, ‘Viking’\"],\n",
    "]\n",
    "\n",
    "table = go.Table(\n",
    "    header=dict(values=titles,\n",
    "               line_color='darkslategray',\n",
    "               align='left'),\n",
    "    cells=dict(values=values,\n",
    "              line_color='darkslategray',\n",
    "              align='left')\n",
    ")\n",
    "\n",
    "fig.add_traces(data=table) # bro, fucking add_traces\n",
    "    \n",
    "fig.show()\n",
    "\n",
    "fig.write_html(\"./docs/_includes/sequential_retrieval_paths.html\")"
   ]
  },
  {
   "cell_type": "code",
   "execution_count": 5,
   "id": "1183f86c-bf08-400a-ad7d-33b4d74ac1c4",
   "metadata": {},
   "outputs": [
    {
     "data": {
      "text/html": [
       "<iframe\n",
       "    scrolling=\"no\"\n",
       "    width=\"100%\"\n",
       "    height=\"545px\"\n",
       "    src=\"iframe_figures/figure_5.html\"\n",
       "    frameborder=\"0\"\n",
       "    allowfullscreen\n",
       "></iframe>\n"
      ]
     },
     "metadata": {},
     "output_type": "display_data"
    }
   ],
   "source": [
    "# lingering_paths\n",
    "\n",
    "fig = go.Figure()\n",
    "\n",
    "# Add traces, one for each slider step\n",
    "titles = ['Path taken by the player', 'Shortest path', 'Other player\\'s shortest path']\n",
    "values = [\n",
    "    [\"‘Réunion’, ‘Snow’, ‘Argentina’, ‘Football_(soccer)’, ‘Rugby_football’, ‘Canadian_football’, ‘American_football’, ‘Football’, ‘Football_(soccer)’, ‘FIFA’, ‘North_America’, ‘Florida’, ‘George_H._W._Bush’, ‘Bill_Clinton’, ‘New_York_City’, ‘Baseball’, ‘Sport’\", \"‘Cobalt’, “People’s_Republic_of_China”, ‘Confucianism’, ‘Qin_Dynasty’, ‘Great_Wall_of_China’, ‘Mongolia’, ‘Qing_Dynasty’, ‘Tea’, ‘Arabic_language’, “Qur’an”, ‘Islam’, ‘East_Africa’, ‘Geography’, ‘Mathematics’, ‘Mesopotamia’, ‘Alexander_the_Great’, ‘Persian_Empire’, ‘Iran’, ‘Middle_East’, ‘Fertile_Crescent’, ‘Civilization’, ‘Culture’, ‘Europe’, ‘Earth’, ‘Asia’\"],\n",
    "    [\"‘Réunion’, ‘United_Kingdom’, ‘Sport’\", \"‘Cobalt’, ‘Russia’, ‘Asia’\"],\n",
    "    [\"\", \"‘Cobalt’, ‘Magnetism’, ‘Iron’, ‘Star’, ‘Earth’, ‘Asia’\"],\n",
    "]\n",
    "\n",
    "table = go.Table(\n",
    "    header=dict(values=titles,\n",
    "               line_color='darkslategray',\n",
    "               align='left'),\n",
    "    cells=dict(values=values,\n",
    "              line_color='darkslategray',\n",
    "              align='left')\n",
    ")\n",
    "\n",
    "fig.add_traces(data=table) # bro, fucking add_traces\n",
    "    \n",
    "fig.show()\n",
    "\n",
    "fig.write_html(\"./docs/_includes/lingering_paths.html\")"
   ]
  },
  {
   "cell_type": "code",
   "execution_count": 6,
   "id": "bafc2f95-e8da-426f-9c92-198fc80a34c7",
   "metadata": {},
   "outputs": [
    {
     "data": {
      "text/html": [
       "<iframe\n",
       "    scrolling=\"no\"\n",
       "    width=\"100%\"\n",
       "    height=\"545px\"\n",
       "    src=\"iframe_figures/figure_6.html\"\n",
       "    frameborder=\"0\"\n",
       "    allowfullscreen\n",
       "></iframe>\n"
      ]
     },
     "metadata": {},
     "output_type": "display_data"
    }
   ],
   "source": [
    "# shortest_path_demo\n",
    "\n",
    "fig = go.Figure()\n",
    "\n",
    "# Add traces, one for each slider step\n",
    "titles = ['Shortest path']\n",
    "values = [\n",
    "    [\"‘Palmyra_Atoll’, ‘Pacific_Ocean’, ‘16th_century’, ‘Watch’\", \"‘Tokelau’, ‘United_Kingdom’, ‘Hydrogen’, ‘H_II_region’\", \"‘Velociraptor’, ‘China’, ‘Volcano’\"],\n",
    "]\n",
    "\n",
    "table = go.Table(\n",
    "    header=dict(values=titles,\n",
    "               line_color='darkslategray',\n",
    "               align='left'),\n",
    "    cells=dict(values=values,\n",
    "              line_color='darkslategray',\n",
    "              align='left')\n",
    ")\n",
    "\n",
    "fig.add_traces(data=table) # bro, fucking add_traces\n",
    "    \n",
    "fig.show()\n",
    "\n",
    "fig.write_html(\"./docs/_includes/shortest_path_demo.html\")"
   ]
  },
  {
   "cell_type": "code",
   "execution_count": 7,
   "id": "416d555c-6e7d-4972-bbca-39201bf52af8",
   "metadata": {},
   "outputs": [
    {
     "data": {
      "text/html": [
       "<iframe\n",
       "    scrolling=\"no\"\n",
       "    width=\"100%\"\n",
       "    height=\"545px\"\n",
       "    src=\"iframe_figures/figure_7.html\"\n",
       "    frameborder=\"0\"\n",
       "    allowfullscreen\n",
       "></iframe>\n"
      ]
     },
     "metadata": {},
     "output_type": "display_data"
    }
   ],
   "source": [
    "# shortest_path_wiser\n",
    "\n",
    "fig = go.Figure()\n",
    "\n",
    "# Add traces, one for each slider step\n",
    "titles = ['Path taken by the player', 'Other player\\'s shortest path']\n",
    "values = [\n",
    "    [\"‘Ruthenium’, ‘Molybdenum’, ‘Carbon’, ‘Mineral’, ‘Chemical_element’, ‘Chemistry’, ‘Steel’, ‘Manganese’, ‘Chromium’, ‘Vanadium’, ‘Titanium’, ‘Scandium’, ‘Calcium’, ‘Potassium’, ‘Argon’, ‘Chlorine’, ‘Sulfur’, ‘Phosphorus’, ‘Silicon’, ‘Aluminium’, ‘Magnesium’, ‘Sodium’, ‘Neon’, ‘Fluorine’, ‘Oxygen’, ‘Nitrogen’, ‘Carbon’, ‘Boron’, ‘Beryllium’\", \"‘Great_Wall_of_China’, ‘17th_century’, ‘16th_century’, ‘15th_century’, ‘14th_century’, ‘13th_century’, ‘12th_century’, ‘11th_century’, ‘10th_century’, ‘9th_century’, ‘Rome’\", \"‘Hawk’, ‘North_America’, ‘United_States’, ‘Steel’, ‘Iron’, ‘Ruthenium’, ‘Osmium’, ‘Rhenium’, ‘Tungsten’, ‘Tantalum’, ‘Hafnium’, ‘Lutetium’, ‘Ytterbium’, ‘Thulium’, ‘Erbium’, ‘Holmium’, ‘Dysprosium’, ‘Terbium’, ‘Gadolinium’, ‘Europium’, ‘Samarium’, ‘Promethium’, ‘Neodymium’, ‘Praseodymium’, ‘Cerium’\"],\n",
    "    [\"‘Ruthenium’, ‘Periodic_table’, ‘Beryllium’\", \"‘Great_Wall_of_China’, ‘World_Heritage_Site’, ‘Italy’, ‘Rome’\", \"‘Hawk’, ‘Canada’, ‘Petroleum’, ‘Hydrogen’, ‘Periodic_table’, ‘Cerium’\"],\n",
    "]\n",
    "\n",
    "table = go.Table(\n",
    "    header=dict(values=titles,\n",
    "               line_color='darkslategray',\n",
    "               align='left'),\n",
    "    cells=dict(values=values,\n",
    "              line_color='darkslategray',\n",
    "              align='left')\n",
    ")\n",
    "\n",
    "fig.add_traces(data=table) # bro, fucking add_traces\n",
    "    \n",
    "fig.show()\n",
    "\n",
    "fig.write_html(\"./docs/_includes/shortest_path_wiser.html\")"
   ]
  },
  {
   "cell_type": "code",
   "execution_count": 8,
   "id": "159b02d2-12ae-4fd7-bdd5-0f6f16e5c118",
   "metadata": {},
   "outputs": [
    {
     "data": {
      "text/html": [
       "<iframe\n",
       "    scrolling=\"no\"\n",
       "    width=\"100%\"\n",
       "    height=\"545px\"\n",
       "    src=\"iframe_figures/figure_8.html\"\n",
       "    frameborder=\"0\"\n",
       "    allowfullscreen\n",
       "></iframe>\n"
      ]
     },
     "metadata": {},
     "output_type": "display_data"
    }
   ],
   "source": [
    "# shortest_path_lucky\n",
    "\n",
    "fig = go.Figure()\n",
    "\n",
    "# Add traces, one for each slider step\n",
    "titles = ['Path taken by the player', 'Other player\\'s shortest path']\n",
    "values = [\n",
    "    [\"‘Zulu’, ‘South_Africa’, ‘Diamond’, ‘Platinum’, ‘Nickel’, ‘Cobalt’, ‘Iron’, ‘Manganese’, ‘Chromium’, ‘Vanadium’, ‘Titanium’, ‘Scandium’, ‘Calcium’, ‘Potassium’, ‘Argon’, ‘Chlorine’, ‘Sulfur’, ‘Phosphorus’, ‘Silicon’, ‘Aluminium’\"],\n",
    "    [\"‘Zulu’, ‘AK-47’, ‘Chromium’, ‘Aluminium’\"],\n",
    "]\n",
    "\n",
    "table = go.Table(\n",
    "    header=dict(values=titles,\n",
    "               line_color='darkslategray',\n",
    "               align='left'),\n",
    "    cells=dict(values=values,\n",
    "              line_color='darkslategray',\n",
    "              align='left')\n",
    ")\n",
    "\n",
    "fig.add_traces(data=table) # bro, fucking add_traces\n",
    "    \n",
    "fig.show()\n",
    "\n",
    "fig.write_html(\"./docs/_includes/shortest_path_lucky.html\")"
   ]
  },
  {
   "cell_type": "code",
   "execution_count": null,
   "id": "dd5e60c8-9ffa-4dfe-b887-a2cb7b8f8417",
   "metadata": {},
   "outputs": [],
   "source": []
  }
 ],
 "metadata": {
  "kernelspec": {
   "display_name": "Python 3 (ipykernel)",
   "language": "python",
   "name": "python3"
  },
  "language_info": {
   "codemirror_mode": {
    "name": "ipython",
    "version": 3
   },
   "file_extension": ".py",
   "mimetype": "text/x-python",
   "name": "python",
   "nbconvert_exporter": "python",
   "pygments_lexer": "ipython3",
   "version": "3.10.8"
  },
  "vscode": {
   "interpreter": {
    "hash": "d2d0325a5dfe206058e1a1d92c411a8b719ca07ac9b2a1f80894eace3f073912"
   }
  }
 },
 "nbformat": 4,
 "nbformat_minor": 5
}
